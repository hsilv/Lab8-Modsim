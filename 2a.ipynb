{
 "cells": [
  {
   "cell_type": "markdown",
   "metadata": {},
   "source": [
    "## Problema Knapsack\n",
    "Considere el problema Knapsack general: se tiene un conjunto de $n$ objetos, con valores o recompensas $v = (v_1, v_2, . . . , v_n)$, y pesos $w = (w_1, w_2, . . . , w_n)$, respectivamente. Todos los valores y pesos son no-negativos,  $v_i \\geq 0$ y $w_i \\geq 0$, para todo $1 \\leq i \\leq n$. Suponga que se desea elegir objetos para llevar, de forma que el peso total de los objetos elegidos no sobrepasa la capacidad $K \\geq 0$ de la mochila. El objetivo es determinar la selección óptima de objetos que maximiza la recompensa total, sujeto a la restricción de capacidad.\n",
    "\n",
    "Diseñar un algoritmo genético para resolver un problema Knapsack cualquiera. Su algoritmo debe recibir como argumentos la lista $v$ de valores de cada objeto, la lista $w$ de pesos de cada objeto, la capacidad $K$ de la mochila. Debe recibir también los parámetros específicos de su algoritmo genético. Como resultado, el algoritmo debe devolver la lista de objetos seleccionados para llevar, el valor de la recompensa total, y el peso total de la selección óptima.\n",
    "\n",
    "Usted es libre de elegir la estructura interna de su algoritmo genético. Puede elegir el diseño de su operador de selección, de sus operadores de cruce y mutación. Considere también lbre de elegir los parámetros internos de su algoritmo, por ejemplo:\n",
    "\n",
    "* $N = \\%$ tamaño de la población\n",
    "* $s = \\%$ de selección o sobrevivencia,\n",
    "* $c = \\%$ de nuevos individuos originados por cruce.\n",
    "* $m = \\%$ de nuevos individuos originados por mutación,\n",
    "* $F = \\%$ función de _fitness_,\n",
    "* operadores de cruce y mutación.\n",
    "* $maxI =$ número máximo de iteraciones, u otros criterios de paro,\n",
    "* . . . "
   ]
  },
  {
   "cell_type": "markdown",
   "metadata": {},
   "source": [
    "**a) Formular el problema como un problema de programación lineal, y resolverlo mediante Pulp.**\n",
    "\n",
    "Hallar la selección óptima y encontrar el valor total de recompensa y el peso total de la selección."
   ]
  }
 ],
 "metadata": {
  "kernelspec": {
   "display_name": "Python 3",
   "language": "python",
   "name": "python3"
  },
  "language_info": {
   "name": "python",
   "version": "3.12.3"
  }
 },
 "nbformat": 4,
 "nbformat_minor": 2
}
