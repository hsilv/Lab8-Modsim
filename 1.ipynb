{
 "cells": [
  {
   "cell_type": "markdown",
   "metadata": {},
   "source": [
    "## Problema Knapsack\n",
    "Considere el problema Knapsack general: se tiene un conjunto de $n$ objetos, con valores o recompensas $v = (v_1, v_2, . . . , v_n)$, y pesos $w = (w_1, w_2, . . . , w_n)$, respectivamente. Todos los valores y pesos son no-negativos,  $v_i \\geq 0$ y $w_i \\geq 0$, para todo $1 \\leq i \\leq n$. Suponga que se desea elegir objetos para llevar, de forma que el peso total de los objetos elegidos no sobrepasa la capacidad $K \\geq 0$ de la mochila. El objetivo es determinar la selección óptima de objetos que maximiza la recompensa total, sujeto a la restricción de capacidad.\n",
    "\n",
    "Diseñar un algoritmo genético para resolver un problema Knapsack cualquiera. Su algoritmo debe recibir como argumentos la lista $v$ de valores de cada objeto, la lista $w$ de pesos de cada objeto, la capacidad $K$ de la mochila. Debe recibir también los parámetros específicos de su algoritmo genético. Como resultado, el algoritmo debe devolver la lista de objetos seleccionados para llevar, el valor de la recompensa total, y el peso total de la selección óptima.\n",
    "\n",
    "Usted es libre de elegir la estructura interna de su algoritmo genético. Puede elegir el diseño de su operador de selección, de sus operadores de cruce y mutación. Considere también lbre de elegir los parámetros internos de su algoritmo, por ejemplo:\n",
    "\n",
    "* $N = \\%$ tamaño de la población\n",
    "* $s = \\%$ de selección o sobrevivencia,\n",
    "* $c = \\%$ de nuevos individuos originados por cruce.\n",
    "* $m = \\%$ de nuevos individuos originados por mutación,\n",
    "* $F = \\%$ función de _fitness_,\n",
    "* operadores de cruce y mutación.\n",
    "* $maxI =$ número máximo de iteraciones, u otros criterios de paro,\n",
    "* . . . "
   ]
  },
  {
   "cell_type": "markdown",
   "metadata": {},
   "source": [
    "**Inicialización de la Población**"
   ]
  },
  {
   "cell_type": "code",
   "execution_count": 1,
   "metadata": {},
   "outputs": [],
   "source": [
    "import random\n",
    "\n",
    "def initialize_population(pop_size, n):\n",
    "    return [[random.randint(0, 1) for _ in range(n)] for _ in range(pop_size)]"
   ]
  },
  {
   "cell_type": "markdown",
   "metadata": {},
   "source": [
    "**Función _fitness_**"
   ]
  },
  {
   "cell_type": "code",
   "execution_count": 2,
   "metadata": {},
   "outputs": [],
   "source": [
    "def fitness(individual, values, weights, capacity):\n",
    "    total_value = sum(v * i for v, i in zip(values, individual))\n",
    "    total_weight = sum(w * i for w, i in zip(weights, individual))\n",
    "    if total_weight > capacity:\n",
    "        return 0\n",
    "    return total_value"
   ]
  },
  {
   "cell_type": "markdown",
   "metadata": {},
   "source": [
    "**Función de selección**"
   ]
  },
  {
   "cell_type": "code",
   "execution_count": 3,
   "metadata": {},
   "outputs": [],
   "source": [
    "def selection(population, fitnesses, num_parents):\n",
    "    selected = sorted(zip(population, fitnesses), key=lambda x: x[1], reverse=True)\n",
    "    return [individual for individual, _ in selected[:num_parents]]"
   ]
  },
  {
   "cell_type": "markdown",
   "metadata": {},
   "source": [
    "**Operador de cruce**"
   ]
  },
  {
   "cell_type": "code",
   "execution_count": 4,
   "metadata": {},
   "outputs": [],
   "source": [
    "def crossover(parent1, parent2):\n",
    "    point = random.randint(1, len(parent1) - 1)\n",
    "    return parent1[:point] + parent2[point:]"
   ]
  },
  {
   "cell_type": "markdown",
   "metadata": {},
   "source": [
    "**Operador de mutación**"
   ]
  },
  {
   "cell_type": "code",
   "execution_count": 5,
   "metadata": {},
   "outputs": [],
   "source": [
    "def mutate(individual, mutation_rate):\n",
    "    return [gene if random.random() > mutation_rate else 1 - gene for gene in individual]"
   ]
  },
  {
   "cell_type": "markdown",
   "metadata": {},
   "source": [
    "**Algoritmo genético**"
   ]
  },
  {
   "cell_type": "code",
   "execution_count": 6,
   "metadata": {},
   "outputs": [],
   "source": [
    "def genetic_algorithm(values, weights, capacity, pop_size, num_generations, mutation_rate):\n",
    "    n = len(values)\n",
    "    population = initialize_population(pop_size, n)\n",
    "    \n",
    "    for _ in range(num_generations):\n",
    "        fitnesses = [fitness(ind, values, weights, capacity) for ind in population]\n",
    "        parents = selection(population, fitnesses, pop_size // 2)\n",
    "        \n",
    "        next_population = []\n",
    "        while len(next_population) < pop_size:\n",
    "            parent1, parent2 = random.sample(parents, 2)\n",
    "            offspring = crossover(parent1, parent2)\n",
    "            offspring = mutate(offspring, mutation_rate)\n",
    "            next_population.append(offspring)\n",
    "        \n",
    "        population = next_population\n",
    "    \n",
    "    best_individual = max(population, key=lambda ind: fitness(ind, values, weights, capacity))\n",
    "    best_value = fitness(best_individual, values, weights, capacity)\n",
    "    best_weight = sum(w * i for w, i in zip(weights, best_individual))\n",
    "    \n",
    "    return best_individual, best_value, best_weight"
   ]
  },
  {
   "cell_type": "code",
   "execution_count": 7,
   "metadata": {},
   "outputs": [
    {
     "name": "stdout",
     "output_type": "stream",
     "text": [
      "Selected items: [0, 1, 1]\n",
      "Total value: 220\n",
      "Total weight: 50\n"
     ]
    }
   ],
   "source": [
    "values = [60, 100, 120]\n",
    "weights = [10, 20, 30]\n",
    "capacity = 50\n",
    "pop_size = 100\n",
    "num_generations = 1000\n",
    "mutation_rate = 0.01\n",
    "\n",
    "best_individual, best_value, best_weight = genetic_algorithm(values, weights, capacity, pop_size, num_generations, mutation_rate)\n",
    "print(f\"Selected items: {best_individual}\")\n",
    "print(f\"Total value: {best_value}\")\n",
    "print(f\"Total weight: {best_weight}\")"
   ]
  }
 ],
 "metadata": {
  "kernelspec": {
   "display_name": "Python 3",
   "language": "python",
   "name": "python3"
  },
  "language_info": {
   "codemirror_mode": {
    "name": "ipython",
    "version": 3
   },
   "file_extension": ".py",
   "mimetype": "text/x-python",
   "name": "python",
   "nbconvert_exporter": "python",
   "pygments_lexer": "ipython3",
   "version": "3.12.3"
  }
 },
 "nbformat": 4,
 "nbformat_minor": 2
}
